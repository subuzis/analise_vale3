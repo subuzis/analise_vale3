{
 "cells": [
  {
   "cell_type": "markdown",
   "id": "c84eb79a-f959-4bc1-af89-baed6fd4eb97",
   "metadata": {},
   "source": [
    "Link para download dos arquivos para o estudo:\n",
    "\n",
    "http://www.b3.com.br/pt_br/market-data-e-indices/servicos-de-dados/market-data/historico/mercado-a-vista/series-historicas/"
   ]
  },
  {
   "cell_type": "markdown",
   "id": "bcc48e37-5880-4cc9-b222-9acc271a879d",
   "metadata": {},
   "source": [
    "Importando as bibliotecas"
   ]
  },
  {
   "cell_type": "code",
   "execution_count": null,
   "id": "6679f34a-5802-437c-96be-1e228f99db40",
   "metadata": {},
   "outputs": [],
   "source": [
    "import pandas as pd"
   ]
  },
  {
   "cell_type": "markdown",
   "id": "d1ad7587-a678-499a-87a6-9286222d4f4c",
   "metadata": {},
   "source": [
    "Função para automatizar o sistema "
   ]
  },
  {
   "cell_type": "code",
   "execution_count": 66,
   "id": "974c4798-8d7c-4b69-9843-2d136be2568c",
   "metadata": {},
   "outputs": [],
   "source": [
    "\n",
    "\n",
    "def read_file(path, name_file, year_date, type_file):\n",
    "    \n",
    "    _file = f'{path}{name_file}{year_date}.{type_file}'\n",
    "\n",
    "    colspecs = [(2, 10),\n",
    "                (10, 12),\n",
    "                (12, 24),\n",
    "                (27, 39),\n",
    "                (56, 69),\n",
    "                (69, 82),\n",
    "                (82, 95),\n",
    "                (108, 121),\n",
    "                (152, 170),\n",
    "                (170, 188)   \n",
    "    ]\n",
    "\n",
    "    names = ['data_pregao', 'codbdi', 'sigla_acao', 'nome_acao', 'preco_abertura', 'preco_maximo', 'preco_minimmo', 'preco_fechamento', 'qtd_negocios', 'volume_negocios' ]\n",
    "    df = pd.read_fwf(_file, colspecs = colspecs, names = names, skiprows =1) \n",
    "    \n",
    "    return df\n",
    "\n",
    "\n",
    "\n",
    "\n",
    "\n"
   ]
  },
  {
   "cell_type": "markdown",
   "id": "6724b811-7440-4d26-8296-9c397261a036",
   "metadata": {},
   "source": [
    "Filtrando os ativos (ações) somente código 2, segue documentação: http://www.b3.com.br/data/files/C8/F3/08/B4/297BE410F816C9E492D828A8/SeriesHistoricas_Layout.pdf"
   ]
  },
  {
   "cell_type": "code",
   "execution_count": 67,
   "id": "9c5b5aa8-901c-454d-804f-1cd0736e741d",
   "metadata": {},
   "outputs": [],
   "source": [
    "\n",
    "\n",
    "def filter_stocks(df):\n",
    "    df = df[df['codbdi'] == 2 ]\n",
    "    df = df.drop(['codbdi'], 1)\n",
    "    \n",
    "    return df\n"
   ]
  },
  {
   "cell_type": "markdown",
   "id": "7b86f255-4be2-4df2-af59-6642c794b278",
   "metadata": {},
   "source": [
    "Ajustando o campo data"
   ]
  },
  {
   "cell_type": "code",
   "execution_count": 68,
   "id": "e0fe82bc-d009-48a4-89d0-6660535ea36e",
   "metadata": {},
   "outputs": [],
   "source": [
    "\n",
    "\n",
    "def parse_date(df):\n",
    "    df['data_pregao'] = pd.to_datetime(df['data_pregao'], format = '%Y%m%d')\n",
    "    return df\n"
   ]
  },
  {
   "cell_type": "markdown",
   "id": "bd1eb4eb-4423-4205-a8ef-baab30b59fa1",
   "metadata": {},
   "source": [
    "Ajustando os campos numéricos - deixar preços em reais e casas decimais corretas"
   ]
  },
  {
   "cell_type": "code",
   "execution_count": 69,
   "id": "37d56f23-6a4a-4b60-89df-c04d8973a52b",
   "metadata": {},
   "outputs": [],
   "source": [
    "\n",
    "\n",
    "\n",
    "def parse_values(df):\n",
    "    df['preco_abertura'] = (df['preco_abertura'] /100).astype(float)\n",
    "    df['preco_maximo'] = (df['preco_maximo'] /100).astype(float)\n",
    "    df['preco_minimmo'] = (df['preco_minimmo'] /100).astype(float)\n",
    "    df['preco_fechamento'] = (df['preco_fechamento'] /100).astype(float)\n",
    "    \n",
    "    return df\n",
    "\n"
   ]
  },
  {
   "cell_type": "markdown",
   "id": "9987b79b-e00f-4d33-8398-d72c7e6e4229",
   "metadata": {},
   "source": [
    "Juntando os arquivos"
   ]
  },
  {
   "cell_type": "code",
   "execution_count": 70,
   "id": "d32f223b-80be-4604-b3cf-cd3adc2bb467",
   "metadata": {},
   "outputs": [],
   "source": [
    "\n",
    "\n",
    "def concat_files(path, name_file, year_date, type_file, final_file):\n",
    "    \n",
    "    for i , y in enumerate(year_date):\n",
    "        df =  read_file(path, name_file, y, type_file)\n",
    "        df = filter_stocks(df)\n",
    "        df = parse_date(df)\n",
    "        df = parse_values(df)\n",
    "        \n",
    "        if i == 0:\n",
    "            df_final = df\n",
    "        else:\n",
    "            df_final = pd.concat([df_final, df])\n",
    "    \n",
    "    df_final.to_csv(f'{path}//{final_file}', index = False)\n",
    "    "
   ]
  },
  {
   "cell_type": "code",
   "execution_count": null,
   "id": "27b03eb6-3fff-46f0-a9aa-6b336b2bb68c",
   "metadata": {},
   "outputs": [],
   "source": [
    "Função para chamar todas as funções anteriores e executar o programa ETL\n",
    "\n",
    "Fiz o download dos arquivos e coloquei na pasta local..não enviei para o GitHub devido ao tamanho"
   ]
  },
  {
   "cell_type": "code",
   "execution_count": 71,
   "id": "b07e17fd-9730-4199-ad8d-62eb2e836371",
   "metadata": {},
   "outputs": [],
   "source": [
    "\n",
    "year_date = ['2010','2011','2012','2013','2014','2015','2016','2017','2018','2019', '2020', '2021']\n",
    "path = f'C:\\\\Users\\JoTho\\\\Documents\\\\PROGRAMACAO_2021\\\\PYTHON_PROJETOS\\\\BMF_ACOES\\\\PREVER_PRECOS\\\\'\n",
    "name_file = 'COTAHIST_A'\n",
    "type_file = 'txt'\n",
    "final_file = 'all_ibovespa.csv'\n",
    "concat_files(path, name_file, year_date, type_file, final_file)\n"
   ]
  }
 ],
 "metadata": {
  "kernelspec": {
   "display_name": "Python 3",
   "language": "python",
   "name": "python3"
  },
  "language_info": {
   "codemirror_mode": {
    "name": "ipython",
    "version": 3
   },
   "file_extension": ".py",
   "mimetype": "text/x-python",
   "name": "python",
   "nbconvert_exporter": "python",
   "pygments_lexer": "ipython3",
   "version": "3.8.8"
  }
 },
 "nbformat": 4,
 "nbformat_minor": 5
}
