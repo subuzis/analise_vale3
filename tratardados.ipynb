{
 "cells": [
  {
   "cell_type": "code",
   "execution_count": 2,
   "id": "f501d28f-6e6a-49a8-9841-ea42c2d7faae",
   "metadata": {},
   "outputs": [],
   "source": [
    "#importando as bibliotecas\n",
    "\n",
    "import pandas as pd\n"
   ]
  },
  {
   "cell_type": "code",
   "execution_count": 3,
   "id": "974c4798-8d7c-4b69-9843-2d136be2568c",
   "metadata": {},
   "outputs": [],
   "source": [
    "##funcao para automatizar sistema\n",
    "\n",
    "def read_file(path, name_file, year_date, type_file):\n",
    "    \n",
    "    _file = f'{path}{name_file}{year_date}.{type_file}'\n",
    "\n",
    "    colspecs = [(2, 10),\n",
    "                (10, 12),\n",
    "                (12, 24),\n",
    "                (27, 39),\n",
    "                (56, 69),\n",
    "                (69, 82),\n",
    "                (82, 95),\n",
    "                (108, 121),\n",
    "                (152, 170),\n",
    "                (170, 188)   \n",
    "    ]\n",
    "\n",
    "    names = ['data_pregao', 'codbdi', 'sigla_acao', 'nome_acao', 'preco_abertura', 'preco_maximo', 'preco_minimmo', 'preco_fechamento', 'qtd_negocios', 'volume_negocios' ]\n",
    "    df = pd.read_fwf(_file, colspecs = colspecs, names = names, skiprows =1) \n",
    "    \n",
    "    return df\n",
    "\n",
    "\n",
    "\n",
    "\n",
    "\n"
   ]
  },
  {
   "cell_type": "code",
   "execution_count": 4,
   "id": "9c5b5aa8-901c-454d-804f-1cd0736e741d",
   "metadata": {},
   "outputs": [],
   "source": [
    "#Filtrar ações somente código 2 \n",
    "\n",
    "def filter_stocks(df):\n",
    "    df = df[df['codbdi'] == 2 ]\n",
    "    df = df.drop(['codbdi'], 1)\n",
    "    \n",
    "    return df\n"
   ]
  },
  {
   "cell_type": "code",
   "execution_count": 5,
   "id": "e0fe82bc-d009-48a4-89d0-6660535ea36e",
   "metadata": {},
   "outputs": [],
   "source": [
    "##AJUSTE CAMPO DE DATA\n",
    "\n",
    "def parse_date(df):\n",
    "    df['data_pregao'] = pd.to_datetime(df['data_pregao'], format = '%Y%m%d')\n",
    "    return df\n"
   ]
  },
  {
   "cell_type": "code",
   "execution_count": 6,
   "id": "37d56f23-6a4a-4b60-89df-c04d8973a52b",
   "metadata": {},
   "outputs": [],
   "source": [
    "###AJUSTE DOS CAMPOS NUMÉRICOS deixar preços em reais casas decimais certas\n",
    "\n",
    "\n",
    "def parse_values(df):\n",
    "    df['preco_abertura'] = (df['preco_abertura'] /100).astype(float)\n",
    "    df['preco_maximo'] = (df['preco_maximo'] /100).astype(float)\n",
    "    df['preco_minimmo'] = (df['preco_minimmo'] /100).astype(float)\n",
    "    df['preco_fechamento'] = (df['preco_fechamento'] /100).astype(float)\n",
    "    \n",
    "    return df\n",
    "\n"
   ]
  },
  {
   "cell_type": "code",
   "execution_count": 7,
   "id": "d32f223b-80be-4604-b3cf-cd3adc2bb467",
   "metadata": {},
   "outputs": [],
   "source": [
    "##JUNTANDO OS ARQUIVOS\n",
    "\n",
    "def concat_files(path, name_file, year_date, type_file, final_file):\n",
    "    \n",
    "    for i , y in enumerate(year_date):\n",
    "        df =  read_file(path, name_file, y, type_file)\n",
    "        df = filter_stocks(df)\n",
    "        df = parse_date(df)\n",
    "        df = parse_values(df)\n",
    "        \n",
    "        if i == 0:\n",
    "            df_final = df\n",
    "        else:\n",
    "            df_final = pd.concat([df_final, df])\n",
    "    \n",
    "    df_final.to_csv(f'{path}//{final_file}', index = False)\n",
    "    "
   ]
  },
  {
   "cell_type": "code",
   "execution_count": 8,
   "id": "b07e17fd-9730-4199-ad8d-62eb2e836371",
   "metadata": {},
   "outputs": [],
   "source": [
    "##FUNÇAO CHAMAR TODAS AS OUTRAS EXECUTAR O PROGRAMA ETL\n",
    "\n",
    "##fiz o downlod dos arquivos e coloquei na pasta local..não enviei para o GitHub devido ao tamanho\n",
    "\n",
    "year_date = ['2010','2011','2012','2013','2014','2015','2016','2017','2018','2019', '2020', '2021']\n",
    "path = f'C:\\\\Users\\JoTho\\\\Documents\\\\PROGRAMACAO_2021\\\\PYTHON_PROJETOS\\\\BMF_ACOES\\\\PREVER_PRECOS\\\\'\n",
    "name_file = 'COTAHIST_A'\n",
    "type_file = 'txt'\n",
    "final_file = 'all_ibovespa.csv'\n",
    "concat_files(path, name_file, year_date, type_file, final_file)\n"
   ]
  },
  {
   "cell_type": "code",
   "execution_count": null,
   "id": "bda06a6f-db00-4d6b-84e6-ebfbc15115f1",
   "metadata": {},
   "outputs": [],
   "source": []
  },
  {
   "cell_type": "code",
   "execution_count": null,
   "id": "09cd297b-a88c-4e76-b2d4-c1809982a5bf",
   "metadata": {},
   "outputs": [],
   "source": []
  }
 ],
 "metadata": {
  "kernelspec": {
   "display_name": "Python 3",
   "language": "python",
   "name": "python3"
  },
  "language_info": {
   "codemirror_mode": {
    "name": "ipython",
    "version": 3
   },
   "file_extension": ".py",
   "mimetype": "text/x-python",
   "name": "python",
   "nbconvert_exporter": "python",
   "pygments_lexer": "ipython3",
   "version": "3.8.8"
  }
 },
 "nbformat": 4,
 "nbformat_minor": 5
}
